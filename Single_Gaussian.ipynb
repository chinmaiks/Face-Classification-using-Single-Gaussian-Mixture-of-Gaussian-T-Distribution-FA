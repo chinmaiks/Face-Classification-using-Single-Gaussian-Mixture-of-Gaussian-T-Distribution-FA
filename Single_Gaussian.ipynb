{
 "cells": [
  {
   "cell_type": "code",
   "execution_count": 1,
   "metadata": {},
   "outputs": [],
   "source": [
    "import os\n",
    "import numpy as np\n",
    "import cv2\n",
    "\n",
    "from scipy.stats import norm\n",
    "from sklearn.metrics import confusion_matrix\n",
    "from sklearn.metrics import roc_curve\n",
    "from sklearn.metrics import auc\n",
    "from scipy.stats import multivariate_normal\n",
    "\n",
    "import math\n",
    "import matplotlib.pyplot as plt\n",
    "import numpy.matlib\n",
    "from numpy.linalg import inv, det"
   ]
  },
  {
   "cell_type": "code",
   "execution_count": 2,
   "metadata": {},
   "outputs": [],
   "source": [
    "dir_path = \"C:/Users/chinm/Documents/Courses/Sem4/CV/Project/1/\"\n",
    "\n",
    "images_dir = \"data/originalPics/\"\n",
    "fddb_file_path = \"data/FDDB-folds/\"\n",
    "img_format = \".jpg\"\n",
    "\n",
    "output_dir = \"data/output/\"\n",
    "bbox_fdd_folds = \"bbox-FDDB-folds/\"\n",
    "bbox_faces_dir = \"faces/\"\n",
    "bbox_non_faces_dir = \"non_faces/\"\n",
    "face_dim = (20, 20)\n",
    "\n",
    "model_path = \"models/\""
   ]
  },
  {
   "cell_type": "code",
   "execution_count": 3,
   "metadata": {},
   "outputs": [],
   "source": [
    "def get_files(path):\n",
    "    files = []\n",
    "    for root, subdirs, images in os.walk(path):\n",
    "        if images:\n",
    "            full_path_images = [os.path.join(root, image).replace(\"\\\\\", \"/\") for image in images]\n",
    "            files.extend(full_path_images)\n",
    "    return files"
   ]
  },
  {
   "cell_type": "code",
   "execution_count": 4,
   "metadata": {},
   "outputs": [],
   "source": [
    "def data_preparation():\n",
    "    face_files = get_files(dir_path + output_dir + bbox_faces_dir)\n",
    "    non_face_files = get_files(dir_path + output_dir + bbox_non_faces_dir)\n",
    "    \n",
    "    tr_face_data_images = face_files[:1000] \n",
    "    tr_non_face_data_images = non_face_files[:1000]\n",
    "    \n",
    "    te_face_data_images = face_files[1000:1100] \n",
    "    te_non_face_data_images = non_face_files[1000:1100]\n",
    "    \n",
    "    tr_face_data = [cv2.imread(img) for img in tr_face_data_images]\n",
    "    tr_non_face_data = [cv2.imread(img) for img in tr_non_face_data_images]\n",
    "    \n",
    "    te_face_data = [cv2.imread(img) for img in te_face_data_images]\n",
    "    te_non_face_data = [cv2.imread(img) for img in te_non_face_data_images]\n",
    "\n",
    "    tr_face_data = np.array([cv2.normalize(i, None, alpha=0, beta=1, norm_type=cv2.NORM_MINMAX, dtype=cv2.CV_32F).flatten() for i in tr_face_data])\n",
    "    tr_non_face_data = np.array([cv2.normalize(i, None, alpha=0, beta=1, norm_type=cv2.NORM_MINMAX, dtype=cv2.CV_32F).flatten() for i in tr_non_face_data])\n",
    "    \n",
    "    te_face_data = np.array([cv2.normalize(i, None, alpha=0, beta=1, norm_type=cv2.NORM_MINMAX, dtype=cv2.CV_32F).flatten() for i in te_face_data])\n",
    "    te_non_face_data = np.array([cv2.normalize(i, None, alpha=0, beta=1, norm_type=cv2.NORM_MINMAX, dtype=cv2.CV_32F).flatten() for i in te_non_face_data])\n",
    "    \n",
    "    tr_face_labels = np.array([1]*1000)\n",
    "    tr_non_face_labels = np.array([0]*1000)\n",
    "    \n",
    "    te_face_labels = np.array([1]*100)\n",
    "    te_non_face_labels = np.array([0]*100)\n",
    "    \n",
    "    return tr_face_data, tr_non_face_data, tr_face_labels, tr_non_face_labels, te_face_data, te_non_face_data, te_face_labels, te_non_face_labels"
   ]
  },
  {
   "cell_type": "code",
   "execution_count": 5,
   "metadata": {},
   "outputs": [
    {
     "data": {
      "text/plain": [
       "(1000, 1000, 1000, 1000, 100, 100, 100, 100)"
      ]
     },
     "execution_count": 5,
     "metadata": {},
     "output_type": "execute_result"
    }
   ],
   "source": [
    "tr_face_data, tr_non_face_data, tr_face_labels, tr_non_face_labels, te_face_data, te_non_face_data, te_face_labels, te_non_face_labels = data_preparation()\n",
    "len(tr_face_data), len(tr_non_face_data), len(tr_face_labels), len(tr_non_face_labels), len(te_face_data), len(te_non_face_data), len(te_face_labels), len(te_non_face_labels)"
   ]
  },
  {
   "cell_type": "code",
   "execution_count": 11,
   "metadata": {},
   "outputs": [],
   "source": [
    "class SingleGaussian():\n",
    "    def __init__(self, tr_face_data, tr_non_face_data, tr_face_labels, tr_non_face_labels, \\\n",
    "                 te_face_data, te_non_face_data, te_face_labels, te_non_face_labels, vec_len, img_dim=(20,20,3)):\n",
    "        self.tr_face_data = tr_face_data\n",
    "        self.tr_non_face_data = tr_non_face_data\n",
    "        self.tr_face_labels = tr_face_labels\n",
    "        self.tr_non_face_labels = tr_non_face_labels\n",
    "        \n",
    "        self.te_face_data = te_face_data\n",
    "        self.te_non_face_data = te_non_face_data\n",
    "        self.testing_data = np.concatenate((self.te_face_data, self.te_non_face_data), axis=0)\n",
    "        \n",
    "        self.te_face_labels = te_face_labels\n",
    "        self.te_non_face_labels = te_non_face_labels\n",
    "        \n",
    "        self.vec_len = vec_len\n",
    "        self.img_dim = img_dim\n",
    "        \n",
    "        self.storing_dir = \"Single_Gaussian/\"\n",
    "        \n",
    "    def fit(self):\n",
    "        self.tr_f_mu = self.tr_face_data.mean(axis=0)\n",
    "        self.tr_nf_mu = self.tr_non_face_data.mean(axis=0)\n",
    "        \n",
    "        self.tr_face_sigma = np.cov(self.tr_face_data, rowvar=False, bias=1, ddof=None)\n",
    "        self.tr_face_sigma = np.diagonal(self.tr_face_sigma)\n",
    "        self.tr_f_covariance = np.diag(self.tr_face_sigma, 0)\n",
    "        \n",
    "        self.tr_non_face_sigma = np.cov(self.tr_non_face_data, rowvar=False, bias=1, ddof=None)\n",
    "        self.tr_non_face_sigma = np.diagonal(self.tr_non_face_sigma)\n",
    "        self.tr_nf_covariance = np.diag(self.tr_non_face_sigma, 0)\n",
    "                \n",
    "    def pdf(self, data, mean, covs):\n",
    "        print(data.shape, mean.shape, covs.shape)\n",
    "        temp1 = np.matmul((data[:,0].reshape(-1,1)-mean[0]).T, inv(covs[0]))\n",
    "        temp2 = -0.5*np.matmul(temp1, data[:,0].reshape(-1,1)-mean[0])\n",
    "        pdf = np.exp(temp2)/(np.sqrt(det(covs[k]) * (2*np.pi**data.shape[0])))\n",
    "        return pdf\n",
    "        \n",
    "    def predict(self):\n",
    "        self.pred_labels = []\n",
    "        self.pred_scores = []\n",
    "        \n",
    "        self.face_pdf = multivariate_normal.pdf(self.te_face_data, self.tr_f_mu, self.tr_f_covariance)\n",
    "        self.non_face_pdf = multivariate_normal.pdf(self.te_non_face_data, self.tr_nf_mu, self.tr_nf_covariance) \n",
    "        \n",
    "        self.face_predict_labels = [1 if i>0.5 else 0 for i in self.face_pdf]\n",
    "        self.non_face_predict_labels = [0 if i>0.5 else 1 for i in self.non_face_pdf]\n",
    "        \n",
    "        self.pred_labels = self.face_predict_labels + self.non_face_predict_labels\n",
    "        self.pred_scores = np.concatenate((self.face_pdf, self.non_face_pdf), axis=0)\n",
    "    \n",
    "    def visualze_mean_and_cov(self):\n",
    "        self.mean_f_image = self.tr_f_mu.reshape(self.img_dim)\n",
    "        self.mean_f_image =  self.mean_f_image*(255/np.max(self.mean_f_image))\n",
    "        cov_f_image = np.diag(self.tr_f_covariance)\n",
    "        cov_f_image = cov_f_image/np.max(cov_f_image)\n",
    "        self.cov_f_image = cov_f_image.reshape(self.img_dim)\n",
    "        self.cov_f_image =  self.cov_f_image*(255/np.max(self.cov_f_image))\n",
    "        \n",
    "        self.mean_nf_image = self.tr_nf_mu.reshape(self.img_dim)\n",
    "        self.mean_nf_image =  self.mean_nf_image*(255/np.max(self.mean_nf_image))\n",
    "        cov_nf_image = np.diag(self.tr_nf_covariance)\n",
    "        cov_nf_image = cov_nf_image/np.max(cov_nf_image)\n",
    "        self.cov_nf_image = cov_nf_image.reshape(self.img_dim)\n",
    "        self.cov_nf_image =  self.cov_nf_image*(255/np.max(self.cov_nf_image))\n",
    "        \n",
    "        cv2.imwrite(dir_path + model_path + self.storing_dir + \"Mean_Face_Image.jpg\", self.mean_f_image)\n",
    "        cv2.imwrite(dir_path + model_path + self.storing_dir + \"Mean_Non_Face_Image.jpg\", self.mean_nf_image)\n",
    "        \n",
    "        cv2.imwrite(dir_path + model_path + self.storing_dir + \"Cov_Face_Image.jpg\", self.cov_f_image)\n",
    "        cv2.imwrite(dir_path + model_path + self.storing_dir + \"Cov_Non_Face_Image.jpg\", self.cov_nf_image)\n",
    "            \n",
    "        cv2.imwrite(dir_path + model_path + self.storing_dir + \"Mean_Face_Image_resize.jpg\", cv2.resize(self.mean_f_image, (60,60)))\n",
    "        cv2.imwrite(dir_path + model_path + self.storing_dir + \"Mean_Non_Face_Image_resize.jpg\", cv2.resize(self.mean_nf_image, (60,60)))\n",
    "        \n",
    "        cv2.imwrite(dir_path + model_path + self.storing_dir + \"Cov_Face_Image_resize.jpg\", cv2.resize(self.cov_f_image, (60,60)))\n",
    "        cv2.imwrite(dir_path + model_path + self.storing_dir + \"Cov_Non_Face_Image_resize.jpg\", cv2.resize(self.cov_nf_image, (60,60)))\n",
    "            \n",
    "    def create_confusion_matrix(self):\n",
    "        self.testing_data_labels = np.concatenate((single_gaussian.te_face_labels, single_gaussian.te_non_face_labels), axis=0)\n",
    "    \n",
    "        TP = 0\n",
    "        FP = 0\n",
    "        TN = 0\n",
    "        FN = 0\n",
    "\n",
    "        for i in range(len(self.pred_labels)): \n",
    "            if self.testing_data_labels[i]==self.pred_labels[i]==1:\n",
    "               TP += 1\n",
    "            if self.pred_labels[i]==1 and self.testing_data_labels[i]!=self.pred_labels[i]:\n",
    "               FP += 1\n",
    "            if self.testing_data_labels[i]==self.pred_labels[i]==0:\n",
    "               TN += 1\n",
    "            if self.pred_labels[i]==0 and self.testing_data_labels[i]!=self.pred_labels[i]:\n",
    "               FN += 1\n",
    "\n",
    "        return(TP, FP, TN, FN)\n",
    "        \n",
    "    def plot_roc_curve(self):\n",
    "        fpr, tpr, threshold = roc_curve(self.testing_data_labels, self.pred_scores)\n",
    "        roc_auc = auc(fpr, tpr)\n",
    "\n",
    "        # Plot ROC curve\n",
    "        plt.plot(fpr, tpr, label='ROC curve (area = %0.3f)' % roc_auc)\n",
    "        plt.plot([0, 1], [0, 1], 'k--')  # random predictions curve\n",
    "        plt.xlim([0.0, 1.0])\n",
    "        plt.ylim([0.0, 1.0])\n",
    "        plt.xlabel('False Positive Rate or (1 - Specifity)')\n",
    "        plt.ylabel('True Positive Rate or (Sensitivity)')\n",
    "        plt.title('Receiver Operating Characteristic')\n",
    "        plt.legend(loc=\"lower right\")\n",
    "        plt.savefig(dir_path + model_path + self.storing_dir + \"Single_Gaussian_ROC_Curve.png\")"
   ]
  },
  {
   "cell_type": "code",
   "execution_count": 12,
   "metadata": {},
   "outputs": [],
   "source": [
    "single_gaussian = SingleGaussian(tr_face_data, tr_non_face_data, tr_face_labels, tr_non_face_labels, \\\n",
    "                                 te_face_data, te_non_face_data, te_face_labels, te_non_face_labels,\\\n",
    "                                1200, (20,20,3))"
   ]
  },
  {
   "cell_type": "code",
   "execution_count": 13,
   "metadata": {},
   "outputs": [],
   "source": [
    "single_gaussian.fit()"
   ]
  },
  {
   "cell_type": "code",
   "execution_count": 14,
   "metadata": {},
   "outputs": [],
   "source": [
    "single_gaussian.predict()"
   ]
  },
  {
   "cell_type": "code",
   "execution_count": 20,
   "metadata": {},
   "outputs": [],
   "source": [
    "TP, FP, TN, FN = single_gaussian.create_confusion_matrix()"
   ]
  },
  {
   "cell_type": "code",
   "execution_count": 21,
   "metadata": {},
   "outputs": [
    {
     "name": "stdout",
     "output_type": "stream",
     "text": [
      "False Positive Rate: 0.87\n",
      "False Negative Rate: 0.35\n",
      "Mis Classification Rate: 0.61\n"
     ]
    }
   ],
   "source": [
    "fpr =  FP/(FP+TN)\n",
    "fnr = FN/(TP+FN)\n",
    "mis_class_rate = (FP + FN)/200\n",
    "print(\"False Positive Rate: {}\".format(fpr))\n",
    "print(\"False Negative Rate: {}\".format(fnr))\n",
    "print(\"Mis Classification Rate: {}\".format(mis_class_rate))"
   ]
  },
  {
   "cell_type": "code",
   "execution_count": 18,
   "metadata": {},
   "outputs": [
    {
     "data": {
      "image/png": "[encoded data removed]",
      "text/plain": [
       "<Figure size 432x288 with 1 Axes>"
      ]
     },
     "metadata": {
      "needs_background": "light"
     },
     "output_type": "display_data"
    }
   ],
   "source": [
    "single_gaussian.plot_roc_curve()"
   ]
  },
  {
   "cell_type": "code",
   "execution_count": 19,
   "metadata": {},
   "outputs": [],
   "source": [
    "single_gaussian.visualze_mean_and_cov()"
   ]
  },
  {
   "cell_type": "code",
   "execution_count": null,
   "metadata": {},
   "outputs": [],
   "source": []
  }
 ],
 "metadata": {
  "kernelspec": {
   "display_name": "Python 3",
   "language": "python",
   "name": "python3"
  },
  "language_info": {
   "codemirror_mode": {
    "name": "ipython",
    "version": 3
   },
   "file_extension": ".py",
   "mimetype": "text/x-python",
   "name": "python",
   "nbconvert_exporter": "python",
   "pygments_lexer": "ipython3",
   "version": "3.7.3"
  }
 },
 "nbformat": 4,
 "nbformat_minor": 2
}
