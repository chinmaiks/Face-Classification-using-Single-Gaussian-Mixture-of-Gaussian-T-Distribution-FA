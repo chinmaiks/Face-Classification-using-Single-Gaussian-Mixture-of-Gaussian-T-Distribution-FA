{
 "cells": [
  {
   "cell_type": "code",
   "execution_count": 1,
   "metadata": {},
   "outputs": [],
   "source": [
    "import os\n",
    "import cv2\n",
    "\n",
    "from scipy.stats import norm\n",
    "from scipy.stats import multivariate_normal\n",
    "from sklearn.metrics import confusion_matrix\n",
    "from sklearn.metrics import roc_curve\n",
    "from sklearn.metrics import auc\n",
    "from sklearn.preprocessing import StandardScaler\n",
    "from sklearn.decomposition import PCA\n",
    "\n",
    "import math\n",
    "import matplotlib.pyplot as plt\n",
    "\n",
    "import numpy.matlib\n",
    "from numpy.linalg import inv, det\n",
    "import numpy as np"
   ]
  },
  {
   "cell_type": "code",
   "execution_count": 2,
   "metadata": {},
   "outputs": [],
   "source": [
    "dir_path = \"C:/Users/chinm/Documents/Courses/Sem4/CV/Project/1/\"\n",
    "\n",
    "images_dir = \"data/originalPics/\"\n",
    "fddb_file_path = \"data/FDDB-folds/\"\n",
    "img_format = \".jpg\"\n",
    "\n",
    "output_dir = \"data/output/\"\n",
    "bbox_fdd_folds = \"bbox-FDDB-folds/\"\n",
    "bbox_faces_dir = \"faces/\"\n",
    "bbox_non_faces_dir = \"non_faces/\"\n",
    "face_dim = (20, 20)\n",
    "\n",
    "model_path = \"models/\""
   ]
  },
  {
   "cell_type": "code",
   "execution_count": 3,
   "metadata": {},
   "outputs": [],
   "source": [
    "no_of_components = 3\n",
    "dimensions_after_pca = 100"
   ]
  },
  {
   "cell_type": "code",
   "execution_count": 4,
   "metadata": {},
   "outputs": [],
   "source": [
    "def get_files(path):\n",
    "    files = []\n",
    "    for root, subdirs, images in os.walk(path):\n",
    "        if images:\n",
    "            full_path_images = [os.path.join(root, image).replace(\"\\\\\", \"/\") for image in images]\n",
    "            files.extend(full_path_images)\n",
    "    return files"
   ]
  },
  {
   "cell_type": "code",
   "execution_count": 5,
   "metadata": {},
   "outputs": [],
   "source": [
    "def data_preparation():\n",
    "    face_files = get_files(dir_path + output_dir + bbox_faces_dir)\n",
    "    non_face_files = get_files(dir_path + output_dir + bbox_non_faces_dir)\n",
    "    \n",
    "    tr_face_data_images = face_files[:1000] \n",
    "    tr_non_face_data_images = non_face_files[:1000]\n",
    "    \n",
    "    te_face_data_images = face_files[1000:1100] \n",
    "    te_non_face_data_images = non_face_files[1000:1100]\n",
    "    \n",
    "    tr_face_data = [cv2.imread(img) for img in tr_face_data_images]\n",
    "    tr_face_data = [cv2.cvtColor(img, cv2.COLOR_BGR2GRAY).astype(np.float64) for img in tr_face_data]\n",
    "    tr_non_face_data = [cv2.imread(img) for img in tr_non_face_data_images]\n",
    "    tr_non_face_data = [cv2.cvtColor(img, cv2.COLOR_BGR2GRAY).astype(np.float64) for img in tr_non_face_data]\n",
    "    \n",
    "    te_face_data = [cv2.imread(img) for img in te_face_data_images]\n",
    "    te_face_data = [cv2.cvtColor(img, cv2.COLOR_BGR2GRAY).astype(np.float64) for img in te_face_data]\n",
    "    \n",
    "    te_non_face_data = [cv2.imread(img) for img in te_non_face_data_images]\n",
    "    te_non_face_data = [cv2.cvtColor(img, cv2.COLOR_BGR2GRAY).astype(np.float64) for img in te_non_face_data]\n",
    "\n",
    "    tr_face_data = np.array([cv2.normalize(i, None, alpha=0, beta=255, norm_type=cv2.NORM_MINMAX, dtype=cv2.CV_32F).flatten() for i in tr_face_data])\n",
    "    tr_non_face_data = np.array([cv2.normalize(i, None, alpha=0, beta=255, norm_type=cv2.NORM_MINMAX, dtype=cv2.CV_32F).flatten() for i in tr_non_face_data])\n",
    "    \n",
    "    te_face_data = np.array([cv2.normalize(i, None, alpha=0, beta=255, norm_type=cv2.NORM_MINMAX, dtype=cv2.CV_32F).flatten() for i in te_face_data])\n",
    "    te_non_face_data = np.array([cv2.normalize(i, None, alpha=0, beta=255, norm_type=cv2.NORM_MINMAX, dtype=cv2.CV_32F).flatten() for i in te_non_face_data])\n",
    "    \n",
    "    tr_face_labels = np.array([1]*1000)\n",
    "    tr_non_face_labels = np.array([0]*1000)\n",
    "    \n",
    "    te_face_labels = np.array([1]*100)\n",
    "    te_non_face_labels = np.array([0]*100)\n",
    "    \n",
    "    return tr_face_data, tr_non_face_data, tr_face_labels, tr_non_face_labels, te_face_data, te_non_face_data, te_face_labels, te_non_face_labels"
   ]
  },
  {
   "cell_type": "code",
   "execution_count": 6,
   "metadata": {
    "scrolled": true
   },
   "outputs": [
    {
     "data": {
      "text/plain": [
       "(1000, 1000, 1000, 1000, 100, 100, 100, 100)"
      ]
     },
     "execution_count": 6,
     "metadata": {},
     "output_type": "execute_result"
    }
   ],
   "source": [
    "tr_face_data, tr_non_face_data, tr_face_labels, tr_non_face_labels, te_face_data, te_non_face_data, te_face_labels, te_non_face_labels = data_preparation()\n",
    "len(tr_face_data), len(tr_non_face_data), len(tr_face_labels), len(tr_non_face_labels), len(te_face_data), len(te_non_face_data), len(te_face_labels), len(te_non_face_labels)"
   ]
  },
  {
   "cell_type": "code",
   "execution_count": 7,
   "metadata": {},
   "outputs": [],
   "source": [
    "def preprocessing(data):\n",
    "    pca = PCA(n_components=100)\n",
    "    pca.fit(data)\n",
    "    pca_data = pca.transform(data)\n",
    "    std_scaler = StandardScaler()\n",
    "    std_scaler.fit(pca_data)\n",
    "    std_data = std_scaler.transform(pca_data)\n",
    "    return pca, std_data"
   ]
  },
  {
   "cell_type": "code",
   "execution_count": 8,
   "metadata": {},
   "outputs": [],
   "source": [
    "pca_f, tr_f_data = preprocessing(tr_face_data)\n",
    "pca_nf, tr_nf_data = preprocessing(tr_non_face_data)\n",
    "_, te_f_data = preprocessing(te_face_data)\n",
    "_, te_nf_data = preprocessing(te_non_face_data)"
   ]
  },
  {
   "cell_type": "code",
   "execution_count": 9,
   "metadata": {},
   "outputs": [],
   "source": [
    "tr_f_data, tr_nf_data, te_f_data, te_nf_data = tr_f_data.T, tr_nf_data.T, te_f_data.T, te_nf_data.T"
   ]
  },
  {
   "cell_type": "code",
   "execution_count": 10,
   "metadata": {},
   "outputs": [
    {
     "data": {
      "text/plain": [
       "((100, 1000), (100, 1000), (100, 100), (100, 100))"
      ]
     },
     "execution_count": 10,
     "metadata": {},
     "output_type": "execute_result"
    }
   ],
   "source": [
    "tr_f_data.shape, tr_nf_data.shape, te_f_data.shape, te_nf_data.shape"
   ]
  },
  {
   "cell_type": "code",
   "execution_count": 11,
   "metadata": {},
   "outputs": [],
   "source": [
    "class Mixture_of_Gaussian():\n",
    "    def __init__(self, data_size, mean, covs, k, img_dim=(20,20)):\n",
    "        self.data_size = data_size\n",
    "        self.mean = mean\n",
    "        self.covs = covs\n",
    "        self.img_dim = img_dim\n",
    "        \n",
    "        self.storing_dir = \"Mixture_of_Gaussian/\"\n",
    "        self.K = k\n",
    "        \n",
    "        self.lambda_ = np.random.dirichlet(np.ones(self.K), size = 1)[0]\n",
    "        self.posterior = np.random.dirichlet(np.ones(self.K), size = self.data_size)\n",
    "        \n",
    "    def pdf(self, data, row, k):\n",
    "        temp1 = np.matmul((data[:,row].reshape(-1,1)-self.mean[k]).T, inv(self.covs[k]))\n",
    "        temp2 = -0.5*np.matmul(temp1, data[:,row].reshape(-1,1)-self.mean[k])\n",
    "        pdf = np.exp(temp2)/(np.sqrt(det(self.covs[k]) * (2*np.pi**data.shape[0])))\n",
    "        return pdf\n",
    "                \n",
    "    def fit(self, k, data):\n",
    "        for i in range(self.data_size):\n",
    "            self.EM(i, k, data)\n",
    "            \n",
    "    def EM(self, row, k, data):\n",
    "        #E-step\n",
    "        posterior_denom = 0\n",
    "        for i in range(self.K):\n",
    "            posterior_denom = posterior_denom + self.lambda_[i] * self.pdf(data, row, i)\n",
    "        self.posterior[row, k] = self.lambda_[k] * self.pdf(data, row, k) / posterior_denom\n",
    "        \n",
    "        #update lambda\n",
    "        numerator = 0\n",
    "        denominator = 0\n",
    "        for j in range(self.data_size):\n",
    "            numerator += self.posterior[j,k]\n",
    "            for i in range(self.K):\n",
    "                denominator += self.posterior[j,i]\n",
    "        self.lambda_[k] = 1.0*numerator/denominator\n",
    "        \n",
    "        #update mean\n",
    "        numerator = np.zeros((self.mean.shape[1],1))\n",
    "        denominator = 0\n",
    "        for i in range(self.data_size):\n",
    "            numerator += self.posterior[i,k] * data[:,i].reshape(-1,1)\n",
    "            denominator += self.posterior[i,k]\n",
    "        self.mean[k] = 1.0*numerator/denominator\n",
    "        \n",
    "        #update cov\n",
    "        numerator = np.zeros((self.mean.shape[1],self.mean.shape[1]))\n",
    "        denominator = 0\n",
    "        for i in range(self.data_size):\n",
    "            numerator += self.posterior[i,k] * \\\n",
    "            np.matmul( (data[:,i].reshape(-1,1)-self.mean[k]), (data[:,i].reshape(-1,1)-self.mean[k]).T)\n",
    "            denominator += self.posterior[i,k]\n",
    "        self.covs[k] = 1.0*numerator/denominator\n",
    "        self.covs[k] = np.diag(np.diag(self.covs[k]))\n",
    "    \n",
    "    def predict(self, data, row):\n",
    "        prob = 0\n",
    "        for k in range(self.K):\n",
    "            prob += self.lambda_[k] * self.pdf(data, row, k)\n",
    "        return prob    "
   ]
  },
  {
   "cell_type": "code",
   "execution_count": 12,
   "metadata": {},
   "outputs": [],
   "source": [
    "mean_f = np.zeros((no_of_components,100,1))\n",
    "covs_f = np.array([np.random.uniform(low=0.0, high=1.0, size=(dimensions_after_pca,dimensions_after_pca)) \\\n",
    "                   * np.identity(100) for k in range(no_of_components)])\n",
    "mog_f = Mixture_of_Gaussian(tr_f_data.shape[1], mean_f, covs_f, no_of_components)"
   ]
  },
  {
   "cell_type": "code",
   "execution_count": 13,
   "metadata": {},
   "outputs": [
    {
     "name": "stdout",
     "output_type": "stream",
     "text": [
      "Iteration 0\n",
      "Mixture of Gaussian-lambda values for face data-[0.6011674  0.79540882 0.13849017]\n",
      "Iteration 1\n",
      "Mixture of Gaussian-lambda values for face data-[0.6011674  0.17491844 0.13849017]\n",
      "Iteration 2\n",
      "Mixture of Gaussian-lambda values for face data-[0.6011674  0.17491844 0.14479558]\n"
     ]
    }
   ],
   "source": [
    "iterations = 3\n",
    "for k in range(iterations):\n",
    "    print(\"Iteration {}\".format(k))\n",
    "    mog_f.fit(k,tr_f_data)\n",
    "    print(\"Mixture of Gaussian-lambda values for face data-{}\".format(mog_f.lambda_))"
   ]
  },
  {
   "cell_type": "code",
   "execution_count": 38,
   "metadata": {},
   "outputs": [
    {
     "name": "stdout",
     "output_type": "stream",
     "text": [
      "Mean Image: Face Component: 0\n"
     ]
    },
    {
     "data": {
      "image/png": "[encoded data removed]",
      "text/plain": [
       "<Figure size 432x288 with 1 Axes>"
      ]
     },
     "metadata": {
      "needs_background": "light"
     },
     "output_type": "display_data"
    },
    {
     "name": "stdout",
     "output_type": "stream",
     "text": [
      "Cov Image: Face Component: 0\n"
     ]
    },
    {
     "data": {
      "image/png": "[encoded data removed]",
      "text/plain": [
       "<Figure size 432x288 with 1 Axes>"
      ]
     },
     "metadata": {
      "needs_background": "light"
     },
     "output_type": "display_data"
    },
    {
     "name": "stdout",
     "output_type": "stream",
     "text": [
      "Mean Image: Face Component: 1\n"
     ]
    },
    {
     "data": {
      "image/png": "[encoded data removed]",
      "text/plain": [
       "<Figure size 432x288 with 1 Axes>"
      ]
     },
     "metadata": {
      "needs_background": "light"
     },
     "output_type": "display_data"
    },
    {
     "name": "stdout",
     "output_type": "stream",
     "text": [
      "Cov Image: Face Component: 1\n"
     ]
    },
    {
     "data": {
      "image/png": "[encoded data removed]",
      "text/plain": [
       "<Figure size 432x288 with 1 Axes>"
      ]
     },
     "metadata": {
      "needs_background": "light"
     },
     "output_type": "display_data"
    },
    {
     "name": "stdout",
     "output_type": "stream",
     "text": [
      "Mean Image: Face Component: 2\n"
     ]
    },
    {
     "data": {
      "image/png": "[encoded data removed]",
      "text/plain": [
       "<Figure size 432x288 with 1 Axes>"
      ]
     },
     "metadata": {
      "needs_background": "light"
     },
     "output_type": "display_data"
    },
    {
     "name": "stdout",
     "output_type": "stream",
     "text": [
      "Cov Image: Face Component: 2\n"
     ]
    },
    {
     "data": {
      "image/png": "[encoded data removed]",
      "text/plain": [
       "<Figure size 432x288 with 1 Axes>"
      ]
     },
     "metadata": {
      "needs_background": "light"
     },
     "output_type": "display_data"
    }
   ],
   "source": [
    "for k in range(no_of_components):\n",
    "    mean_image = np.dot(mean_f[k][:,0], pca_f.components_) + pca_f.mean_\n",
    "    mean_image = mean_image.reshape((20,20))\n",
    "    \n",
    "    cov_image = np.diagonal(mog_f.covs[k])\n",
    "    cov_image = np.dot(np.log(cov_image), pca_f.components_) + pca_f.mean_\n",
    "    cov_image = cov_image.reshape((20,20))\n",
    "    \n",
    "    plt.imsave(dir_path + model_path + \"Mixture_of_Gaussian/\" + \"Mean_Face_Image_{}.jpg\".format(k), mean_image, cmap='gray')\n",
    "    plt.imsave(dir_path + model_path + \"Mixture_of_Gaussian/\" + \"Cov_Face_Image_{}.jpg\".format(k), cov_image, cmap='gray')    \n",
    "    \n",
    "    plt.imsave(dir_path + model_path + \"Mixture_of_Gaussian/\" + \"Mean_Face_Image_Resize_{}.jpg\".format(k), \\\n",
    "                cv2.resize(mean_image, (60,60)), cmap='gray')\n",
    "    plt.imsave(dir_path + model_path + \"Mixture_of_Gaussian/\" + \"Cov_Face_Image_Resize_{}.jpg\".format(k), \\\n",
    "                cv2.resize(cov_image, (60,60)), cmap='gray')\n",
    "    print(\"Mean Image: Face Component: {}\".format(k))\n",
    "    plt.imshow(mean_image, cmap=\"gray\")\n",
    "    plt.show()\n",
    "    \n",
    "    print(\"Cov Image: Face Component: {}\".format(k))\n",
    "    plt.imshow(cov_image, cmap=\"gray\")\n",
    "    plt.show()"
   ]
  },
  {
   "cell_type": "code",
   "execution_count": 15,
   "metadata": {},
   "outputs": [],
   "source": [
    "mean_nf = np.zeros((no_of_components,100,1))\n",
    "covs_nf = np.array([np.random.uniform(low=0.0, high=1.0, size=(dimensions_after_pca, dimensions_after_pca)) \\\n",
    "                    * np.identity(100) for k in range(no_of_components)])\n",
    "mog_nf = Mixture_of_Gaussian(tr_nf_data.shape[1], mean_nf, covs_nf, no_of_components)"
   ]
  },
  {
   "cell_type": "code",
   "execution_count": 16,
   "metadata": {},
   "outputs": [
    {
     "name": "stdout",
     "output_type": "stream",
     "text": [
      "Iterations 0\n",
      "Mixture of Gaussian-lambda values for non face data-[0.59439684 0.52410495 0.28671971]\n",
      "Iterations 1\n",
      "Mixture of Gaussian-lambda values for non face data-[0.59439684 0.15677046 0.28671971]\n",
      "Iterations 2\n",
      "Mixture of Gaussian-lambda values for non face data-[0.59439684 0.15677046 0.19601761]\n"
     ]
    }
   ],
   "source": [
    "iterations = 3\n",
    "for k in range(iterations):\n",
    "    print(\"Iterations {}\".format(k))\n",
    "    mog_nf.fit(k,tr_nf_data)\n",
    "    print(\"Mixture of Gaussian-lambda values for non face data-{}\".format(mog_nf.lambda_))"
   ]
  },
  {
   "cell_type": "code",
   "execution_count": 39,
   "metadata": {},
   "outputs": [
    {
     "name": "stdout",
     "output_type": "stream",
     "text": [
      "Mean Image: Non Face Component: 0\n"
     ]
    },
    {
     "data": {
      "image/png": "[encoded data removed]",
      "text/plain": [
       "<Figure size 432x288 with 1 Axes>"
      ]
     },
     "metadata": {
      "needs_background": "light"
     },
     "output_type": "display_data"
    },
    {
     "name": "stdout",
     "output_type": "stream",
     "text": [
      "Cov Image: Non Face Component: 0\n"
     ]
    },
    {
     "data": {
      "image/png": "[encoded data removed]",
      "text/plain": [
       "<Figure size 432x288 with 1 Axes>"
      ]
     },
     "metadata": {
      "needs_background": "light"
     },
     "output_type": "display_data"
    },
    {
     "name": "stdout",
     "output_type": "stream",
     "text": [
      "Mean Image: Non Face Component: 1\n"
     ]
    },
    {
     "data": {
      "image/png": "[encoded data removed]",
      "text/plain": [
       "<Figure size 432x288 with 1 Axes>"
      ]
     },
     "metadata": {
      "needs_background": "light"
     },
     "output_type": "display_data"
    },
    {
     "name": "stdout",
     "output_type": "stream",
     "text": [
      "Cov Image: Non Face Component: 1\n"
     ]
    },
    {
     "data": {
      "image/png": "[encoded data removed]",
      "text/plain": [
       "<Figure size 432x288 with 1 Axes>"
      ]
     },
     "metadata": {
      "needs_background": "light"
     },
     "output_type": "display_data"
    },
    {
     "name": "stdout",
     "output_type": "stream",
     "text": [
      "Mean Image: Non Face Component: 2\n"
     ]
    },
    {
     "data": {
      "image/png": "[encoded data removed]",
      "text/plain": [
       "<Figure size 432x288 with 1 Axes>"
      ]
     },
     "metadata": {
      "needs_background": "light"
     },
     "output_type": "display_data"
    },
    {
     "name": "stdout",
     "output_type": "stream",
     "text": [
      "Cov Image: Non Face Component: 2\n"
     ]
    },
    {
     "data": {
      "image/png": "[encoded data removed]",
      "text/plain": [
       "<Figure size 432x288 with 1 Axes>"
      ]
     },
     "metadata": {
      "needs_background": "light"
     },
     "output_type": "display_data"
    }
   ],
   "source": [
    "for k in range(no_of_components):\n",
    "    mean_nf_image = np.dot(mean_nf[k][:,0], pca_nf.components_) + pca_nf.mean_\n",
    "    mean_nf_image = mean_nf_image.reshape((20,20))\n",
    "    \n",
    "    cov_nf_image = np.dot(mog_nf.covs[k][:,0], pca_nf.components_) + pca_nf.mean_\n",
    "    cov_nf_image = cov_nf_image.reshape((20,20))\n",
    "\n",
    "    plt.imsave(dir_path + model_path + \"Mixture_of_Gaussian/\" + \"Mean_Non_Face_Image_{}.jpg\".format(k), mean_nf_image, cmap='gray')\n",
    "    plt.imsave(dir_path + model_path + \"Mixture_of_Gaussian/\" + \"Cov_Non_Face_Image_{}.jpg\".format(k), cov_nf_image, cmap='gray')\n",
    "    \n",
    "    plt.imsave(dir_path + model_path + \"Mixture_of_Gaussian/\" + \"Mean_Non_Face_Image_Resize_{}.jpg\".format(k), \\\n",
    "                cv2.resize(mean_nf_image, (60,60)), cmap='gray')\n",
    "    plt.imsave(dir_path + model_path + \"Mixture_of_Gaussian/\" + \"Cov_Non_Face_Image_Resize_{}.jpg\".format(k), \\\n",
    "                cv2.resize(cov_nf_image, (60,60)), cmap='gray')\n",
    "    \n",
    "    print(\"Mean Image: Non Face Component: {}\".format(k))\n",
    "    plt.imshow(mean_nf_image, cmap=\"gray\")\n",
    "    plt.show()\n",
    "    \n",
    "    print(\"Cov Image: Non Face Component: {}\".format(k))\n",
    "    plt.imshow(cov_nf_image, cmap=\"gray\")\n",
    "    plt.show()"
   ]
  },
  {
   "cell_type": "code",
   "execution_count": 18,
   "metadata": {},
   "outputs": [],
   "source": [
    "pred_f_fdata, pred_f_nfdata, pred_nf_fdata, pred_nf_nfdata = [], [], [], []\n",
    "\n",
    "for i in range(100):\n",
    "    pred_f_fdata.append(mog_f.predict(te_f_data, i))\n",
    "    pred_f_nfdata.append(mog_f.predict(te_nf_data, i))\n",
    "    \n",
    "    pred_nf_fdata.append(mog_nf.predict(te_f_data, i))\n",
    "    pred_nf_nfdata.append(mog_nf.predict(te_nf_data, i))\n",
    "\n",
    "pred_f_fdata = np.array(pred_f_fdata)\n",
    "pred_f_nfdata = np.array(pred_f_nfdata)\n",
    "pred_nf_fdata = np.array(pred_nf_fdata)\n",
    "pred_nf_nfdata = np.array(pred_nf_nfdata)\n",
    "\n",
    "pred_f_fdata = pred_f_fdata/(pred_f_fdata+pred_f_nfdata)\n",
    "pred_f_nfdata = pred_f_nfdata/(pred_f_fdata+pred_f_nfdata)\n",
    "pred_nf_fdata = pred_nf_fdata/(pred_nf_fdata+pred_nf_nfdata)\n",
    "pred_nf_nfdata = pred_nf_nfdata/(pred_nf_fdata+pred_nf_nfdata)"
   ]
  },
  {
   "cell_type": "code",
   "execution_count": 19,
   "metadata": {},
   "outputs": [],
   "source": [
    "pred_f_labels = [1 if pred_f_fdata[i]>pred_nf_fdata[i] else 0 for i in range(100)]\n",
    "pred_nf_labels = [1 if pred_f_nfdata[i]>pred_nf_nfdata[i] else 0 for i in range(100)]"
   ]
  },
  {
   "cell_type": "code",
   "execution_count": 20,
   "metadata": {},
   "outputs": [],
   "source": [
    "pred_labels = pred_f_labels + pred_nf_labels\n",
    "true_labels = [1]*100 + [0]*100"
   ]
  },
  {
   "cell_type": "code",
   "execution_count": 21,
   "metadata": {},
   "outputs": [],
   "source": [
    "def confusion_matrix(y_actual, y_pred):\n",
    "    TP = 0\n",
    "    FP = 0\n",
    "    TN = 0\n",
    "    FN = 0\n",
    "\n",
    "    for i in range(len(y_pred)): \n",
    "        if y_actual[i]==y_pred[i]==1:\n",
    "           TP += 1\n",
    "        if y_pred[i]==1 and y_actual[i]!=y_pred[i]:\n",
    "           FP += 1\n",
    "        if y_actual[i]==y_pred[i]==0:\n",
    "           TN += 1\n",
    "        if y_pred[i]==0 and y_actual[i]!=y_pred[i]:\n",
    "           FN += 1\n",
    "\n",
    "    return(TP, FP, TN, FN)"
   ]
  },
  {
   "cell_type": "code",
   "execution_count": 22,
   "metadata": {},
   "outputs": [],
   "source": [
    "TP, FP, TN, FN = confusion_matrix(true_labels, pred_labels)"
   ]
  },
  {
   "cell_type": "code",
   "execution_count": 23,
   "metadata": {},
   "outputs": [
    {
     "name": "stdout",
     "output_type": "stream",
     "text": [
      "False Positive Rate: 0.55\n",
      "False Negative Rate: 0.4\n",
      "Mis Classification Rate: 0.475\n"
     ]
    }
   ],
   "source": [
    "fpr =  FP/(FP+TN)\n",
    "fnr = FN/(TP+FN)\n",
    "mis_class_rate = (FP + FN)/200\n",
    "print(\"False Positive Rate: {}\".format(fpr))\n",
    "print(\"False Negative Rate: {}\".format(fnr))\n",
    "print(\"Mis Classification Rate: {}\".format(mis_class_rate))"
   ]
  },
  {
   "cell_type": "code",
   "execution_count": 40,
   "metadata": {},
   "outputs": [
    {
     "data": {
      "image/png": "[encoded data removed]",
      "text/plain": [
       "<Figure size 432x288 with 1 Axes>"
      ]
     },
     "metadata": {
      "needs_background": "light"
     },
     "output_type": "display_data"
    }
   ],
   "source": [
    "fpr, tpr, threshold = roc_curve(true_labels, np.append(pred_f_fdata, pred_nf_fdata))\n",
    "roc_auc = auc(fpr, tpr)\n",
    "\n",
    "# Plot ROC curve\n",
    "plt.plot(fpr, tpr, label='ROC curve (area = %0.4f)' % roc_auc)\n",
    "plt.plot([0, 1], [0, 1], 'k--')  # random predictions curve\n",
    "plt.xlim([0.0, 1.0])\n",
    "plt.ylim([0.0, 1.0])\n",
    "plt.xlabel('False Positive Rate or (1 - Specifity)')\n",
    "plt.ylabel('True Positive Rate or (Sensitivity)')\n",
    "plt.title('Receiver Operating Characteristic')\n",
    "plt.legend(loc=\"lower right\")\n",
    "plt.savefig(dir_path + model_path + \"Mixture_of_Gaussian/\" + \"Mixture_of_Gaussian_ROC_Curve.png\")"
   ]
  },
  {
   "cell_type": "code",
   "execution_count": null,
   "metadata": {},
   "outputs": [],
   "source": []
  }
 ],
 "metadata": {
  "kernelspec": {
   "display_name": "Python 3",
   "language": "python",
   "name": "python3"
  },
  "language_info": {
   "codemirror_mode": {
    "name": "ipython",
    "version": 3
   },
   "file_extension": ".py",
   "mimetype": "text/x-python",
   "name": "python",
   "nbconvert_exporter": "python",
   "pygments_lexer": "ipython3",
   "version": "3.7.3"
  }
 },
 "nbformat": 4,
 "nbformat_minor": 2
}
