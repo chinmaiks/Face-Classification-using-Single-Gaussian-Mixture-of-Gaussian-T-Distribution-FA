{
 "cells": [
  {
   "cell_type": "code",
   "execution_count": 1,
   "metadata": {},
   "outputs": [],
   "source": [
    "import os\n",
    "import cv2\n",
    "\n",
    "from scipy.stats import norm\n",
    "from scipy.stats import multivariate_normal\n",
    "from scipy.special import gamma,digamma,gammaln\n",
    "\n",
    "from sklearn.metrics import confusion_matrix\n",
    "from sklearn.metrics import roc_curve\n",
    "from sklearn.metrics import auc\n",
    "from sklearn.preprocessing import StandardScaler\n",
    "from sklearn.decomposition import PCA\n",
    "\n",
    "import math\n",
    "import matplotlib.pyplot as plt\n",
    "\n",
    "import numpy.matlib\n",
    "from numpy.linalg import inv, det\n",
    "import numpy as np"
   ]
  },
  {
   "cell_type": "code",
   "execution_count": 2,
   "metadata": {},
   "outputs": [],
   "source": [
    "dir_path = \"Project/1/\"\n",
    "\n",
    "images_dir = \"data/originalPics/\"\n",
    "fddb_file_path = \"data/FDDB-folds/\"\n",
    "img_format = \".jpg\"\n",
    "\n",
    "output_dir = \"data/output/\"\n",
    "bbox_fdd_folds = \"bbox-FDDB-folds/\"\n",
    "bbox_faces_dir = \"faces/\"\n",
    "bbox_non_faces_dir = \"non_faces/\"\n",
    "face_dim = (20, 20)\n",
    "\n",
    "model_path = \"models/\""
   ]
  },
  {
   "cell_type": "code",
   "execution_count": 3,
   "metadata": {},
   "outputs": [],
   "source": [
    "dimensions_after_pca = 100"
   ]
  },
  {
   "cell_type": "code",
   "execution_count": 4,
   "metadata": {},
   "outputs": [],
   "source": [
    "def get_files(path):\n",
    "    files = []\n",
    "    for root, subdirs, images in os.walk(path):\n",
    "        if images:\n",
    "            full_path_images = [os.path.join(root, image).replace(\"\\\\\", \"/\") for image in images]\n",
    "            files.extend(full_path_images)\n",
    "    return files"
   ]
  },
  {
   "cell_type": "code",
   "execution_count": 5,
   "metadata": {},
   "outputs": [],
   "source": [
    "def data_preparation():\n",
    "    face_files = get_files(dir_path + output_dir + bbox_faces_dir)\n",
    "    non_face_files = get_files(dir_path + output_dir + bbox_non_faces_dir)\n",
    "    \n",
    "    tr_face_data_images = face_files[:1000] \n",
    "    tr_non_face_data_images = non_face_files[:1000]\n",
    "    \n",
    "    te_face_data_images = face_files[1000:1100] \n",
    "    te_non_face_data_images = non_face_files[1000:1100]\n",
    "    \n",
    "    tr_face_data = [cv2.imread(img) for img in tr_face_data_images]\n",
    "    tr_face_data = [cv2.cvtColor(img, cv2.COLOR_BGR2GRAY).astype(np.float64) for img in tr_face_data]\n",
    "    tr_non_face_data = [cv2.imread(img) for img in tr_non_face_data_images]\n",
    "    tr_non_face_data = [cv2.cvtColor(img, cv2.COLOR_BGR2GRAY).astype(np.float64) for img in tr_non_face_data]\n",
    "    \n",
    "    te_face_data = [cv2.imread(img) for img in te_face_data_images]\n",
    "    te_face_data = [cv2.cvtColor(img, cv2.COLOR_BGR2GRAY).astype(np.float64) for img in te_face_data]\n",
    "    \n",
    "    te_non_face_data = [cv2.imread(img) for img in te_non_face_data_images]\n",
    "    te_non_face_data = [cv2.cvtColor(img, cv2.COLOR_BGR2GRAY).astype(np.float64) for img in te_non_face_data]\n",
    "\n",
    "    tr_face_data = np.array([cv2.normalize(i, None, alpha=0, beta=255, norm_type=cv2.NORM_MINMAX, \\\n",
    "                                           dtype=cv2.CV_32F).flatten() for i in tr_face_data])\n",
    "    tr_non_face_data = np.array([cv2.normalize(i, None, alpha=0, beta=255, norm_type=cv2.NORM_MINMAX,\\\n",
    "                                               dtype=cv2.CV_32F).flatten() for i in tr_non_face_data])\n",
    "    \n",
    "    te_face_data = np.array([cv2.normalize(i, None, alpha=0, beta=255, norm_type=cv2.NORM_MINMAX,\\\n",
    "                                           dtype=cv2.CV_32F).flatten() for i in te_face_data])\n",
    "    te_non_face_data = np.array([cv2.normalize(i, None, alpha=0, beta=255, norm_type=cv2.NORM_MINMAX,\\\n",
    "                                               dtype=cv2.CV_32F).flatten() for i in te_non_face_data])\n",
    "    \n",
    "    tr_face_labels = np.array([1]*1000)\n",
    "    tr_non_face_labels = np.array([0]*1000)\n",
    "    \n",
    "    te_face_labels = np.array([1]*100)\n",
    "    te_non_face_labels = np.array([0]*100)\n",
    "    \n",
    "    return tr_face_data, tr_non_face_data, tr_face_labels, tr_non_face_labels, te_face_data, \\\n",
    "te_non_face_data, te_face_labels, te_non_face_labels"
   ]
  },
  {
   "cell_type": "code",
   "execution_count": 6,
   "metadata": {},
   "outputs": [
    {
     "data": {
      "text/plain": [
       "(1000, 1000, 1000, 1000, 100, 100, 100, 100)"
      ]
     },
     "execution_count": 6,
     "metadata": {},
     "output_type": "execute_result"
    }
   ],
   "source": [
    "tr_face_data, tr_non_face_data, tr_face_labels, tr_non_face_labels, \\\n",
    "    te_face_data, te_non_face_data, te_face_labels, te_non_face_labels = data_preparation()\n",
    "len(tr_face_data), len(tr_non_face_data), len(tr_face_labels), len(tr_non_face_labels), \\\n",
    "    len(te_face_data), len(te_non_face_data), len(te_face_labels), len(te_non_face_labels)"
   ]
  },
  {
   "cell_type": "code",
   "execution_count": 7,
   "metadata": {},
   "outputs": [],
   "source": [
    "def preprocessing(data):\n",
    "    pca = PCA(n_components=100)\n",
    "    pca.fit(data)\n",
    "    pca_data = pca.transform(data)\n",
    "    std_scaler = StandardScaler()\n",
    "    std_scaler.fit(pca_data)\n",
    "    std_data = std_scaler.transform(pca_data)\n",
    "    return pca, std_data"
   ]
  },
  {
   "cell_type": "code",
   "execution_count": 8,
   "metadata": {},
   "outputs": [],
   "source": [
    "pca_f, tr_f_data = preprocessing(tr_face_data)\n",
    "pca_nf, tr_nf_data = preprocessing(tr_non_face_data)\n",
    "_, te_f_data = preprocessing(te_face_data)\n",
    "_, te_nf_data = preprocessing(te_non_face_data)"
   ]
  },
  {
   "cell_type": "code",
   "execution_count": 9,
   "metadata": {},
   "outputs": [],
   "source": [
    "tr_f_data, tr_nf_data, te_f_data, te_nf_data = tr_f_data.T, tr_nf_data.T, te_f_data.T, te_nf_data.T"
   ]
  },
  {
   "cell_type": "code",
   "execution_count": 10,
   "metadata": {},
   "outputs": [
    {
     "data": {
      "text/plain": [
       "((100, 1000), (100, 1000), (100, 100), (100, 100))"
      ]
     },
     "execution_count": 10,
     "metadata": {},
     "output_type": "execute_result"
    }
   ],
   "source": [
    "tr_f_data.shape, tr_nf_data.shape, te_f_data.shape, te_nf_data.shape"
   ]
  },
  {
   "cell_type": "code",
   "execution_count": 11,
   "metadata": {},
   "outputs": [],
   "source": [
    "K = 40\n",
    "\n",
    "mean_f = np.mean(tr_f_data,axis=1)\n",
    "phi_f = np.random.rand(dimensions_after_pca, K)\n",
    "cov_f = np.random.rand(dimensions_after_pca, dimensions_after_pca)\n",
    "cov_f = np.diag(np.diag(cov_f))\n",
    "\n",
    "\n",
    "mean_nf = np.mean(tr_nf_data,axis=1)\n",
    "phi_nf = np.random.rand(dimensions_after_pca, K)\n",
    "cov_nf = np.random.rand(dimensions_after_pca, dimensions_after_pca)\n",
    "cov_nf = np.diag(np.diag(cov_nf))\n"
   ]
  },
  {
   "cell_type": "code",
   "execution_count": 12,
   "metadata": {},
   "outputs": [],
   "source": [
    "class Factor_Analyzer():\n",
    "    def __init__(self, data_size, mean, covs, phi, dimensions, k):\n",
    "        self.data_size = data_size\n",
    "        self.mean = mean\n",
    "        self.covs = covs\n",
    "        self.phi = phi\n",
    "        self.dimensions = dimensions\n",
    "        self.K = k\n",
    "        \n",
    "        self.e_of_h = np.zeros((self.data_size, self.K, self.dimensions))\n",
    "        self.e_of_hi_hit = np.zeros((self.data_size, self.K, self.K))\n",
    "        \n",
    "    def EM(self, data):\n",
    "        term1 = np.matmul(self.phi.T, inv(self.covs))\n",
    "        term1 = np.matmul(term1, self.phi) + np.eye(self.K)\n",
    "        term1 = inv(term1)\n",
    "        temp = np.matmul(term1, self.phi.T)\n",
    "        term2 = np.matmul(temp, inv(self.covs))\n",
    "        for i in range(self.data_size):\n",
    "            self.e_of_h[i] = np.matmul(term2, data[:,i]-self.mean)\n",
    "            self.e_of_hi_hit[i] = term1 + np.matmul(self.e_of_h[i], self.e_of_h[i].T)\n",
    "            \n",
    "        term1 = np.zeros((self.dimensions, self.K))\n",
    "        term2 = np.zeros((self.K, self.K))\n",
    "        for i in range(self.data_size):\n",
    "            term1 += np.matmul((data[:,i]-self.mean), self.e_of_h[i].T)\n",
    "            term2 += self.e_of_hi_hit[i]\n",
    "        self.phi = np.matmul(term1, term2)\n",
    "        \n",
    "        term = np.zeros((self.dimensions, self.dimensions))\n",
    "        for i in range(self.data_size):\n",
    "            term += np.matmul(data[:,i].reshape(-1,1)-self.mean, (data[:,i].reshape(-1,1)-self.mean).T)\n",
    "            term2 = np.matmul(self.phi, self.e_of_h[i])\n",
    "            term3 = np.matmul(term2, (data[:,i].reshape(-1,1) - self.mean))\n",
    "            term = term - term3\n",
    "        term = term/self.data_size\n",
    "        self.covs = np.diag(np.diag(term))               \n",
    "            \n",
    "    def predict(self, data, row):\n",
    "        sigma = np.matmul(self.phi, self.phi.T) + self.covs\n",
    "        term1 = -0.5 * (data[:,row].reshape(-1,1) - self.mean).T\n",
    "        term2 = inv(sigma)\n",
    "        term3 = data[:,row].reshape(-1,1) - self.mean\n",
    "        expo1 = np.matmul(term1,term2)\n",
    "        expo2 = np.matmul(expo1,term3)[0,0]\n",
    "        val =  np.exp(expo2)\n",
    "        det_sigma = det(sigma)\n",
    "        if det_sigma < 0:\n",
    "            det_sigma = -det_sigma\n",
    "        val =  val / np.sqrt(det_sigma)\n",
    "        return val\n"
   ]
  },
  {
   "cell_type": "code",
   "execution_count": 14,
   "metadata": {},
   "outputs": [],
   "source": [
    "factor_analyzer_f = Factor_Analyzer(1000, mean_f.reshape(-1,1), cov_f, phi_f, dimensions_after_pca, K)\n",
    "factor_analyzer_nf = Factor_Analyzer(1000, mean_nf.reshape(-1,1), cov_nf, phi_nf, dimensions_after_pca, K)"
   ]
  },
  {
   "cell_type": "code",
   "execution_count": 24,
   "metadata": {},
   "outputs": [
    {
     "name": "stdout",
     "output_type": "stream",
     "text": [
      "Performing iteration no. 0\n",
      "Performing iteration no. 1\n",
      "Performing iteration no. 2\n",
      "Performing iteration no. 3\n",
      "Performing iteration no. 4\n",
      "Performing iteration no. 5\n",
      "Performing iteration no. 6\n",
      "Performing iteration no. 7\n",
      "Performing iteration no. 8\n",
      "Performing iteration no. 9\n"
     ]
    }
   ],
   "source": [
    "iterations = 10\n",
    "for i in range(iterations):\n",
    "    print(\"Iteration no: {}\".format(i))\n",
    "    factor_analyzer_f.EM(tr_f_data)\n",
    "    factor_analyzer_nf.EM(tr_nf_data)      "
   ]
  },
  {
   "cell_type": "code",
   "execution_count": 25,
   "metadata": {},
   "outputs": [],
   "source": [
    "pred_f_fdata, pred_f_nfdata, pred_nf_fdata, pred_nf_nfdata = [], [], [], []\n",
    "\n",
    "for i in range(100):\n",
    "    pred_f_fdata.append(factor_analyzer_f.predict(te_f_data, i))\n",
    "    pred_f_nfdata.append(factor_analyzer_f.predict(te_nf_data, i))\n",
    "    \n",
    "    pred_nf_fdata.append(factor_analyzer_nf.predict(te_f_data, i))\n",
    "    pred_nf_nfdata.append(factor_analyzer_nf.predict(te_nf_data, i))\n",
    "\n",
    "pred_f_fdata = np.array(pred_f_fdata)\n",
    "pred_f_nfdata = np.array(pred_f_nfdata)\n",
    "pred_nf_fdata = np.array(pred_nf_fdata)\n",
    "pred_nf_nfdata = np.array(pred_nf_nfdata)\n",
    "\n",
    "pred_f_fdata = pred_f_fdata/(pred_f_fdata+pred_f_nfdata)\n",
    "pred_f_nfdata = pred_f_nfdata/(pred_f_fdata+pred_f_nfdata)\n",
    "pred_nf_fdata = pred_nf_fdata/(pred_nf_fdata+pred_nf_nfdata)\n",
    "pred_nf_nfdata = pred_nf_nfdata/(pred_nf_fdata+pred_nf_nfdata)"
   ]
  },
  {
   "cell_type": "code",
   "execution_count": null,
   "metadata": {},
   "outputs": [],
   "source": [
    "pred_f_labels = [1 if pred_f_fdata[i]>pred_nf_fdata[i] else 0 for i in range(100)]\n",
    "pred_nf_labels = [1 if pred_f_nfdata[i]>pred_nf_nfdata[i] else 0 for i in range(100)]"
   ]
  },
  {
   "cell_type": "code",
   "execution_count": 27,
   "metadata": {},
   "outputs": [],
   "source": [
    "pred_labels = pred_f_labels + pred_nf_labels\n",
    "true_labels = [1]*100 + [0]*100"
   ]
  },
  {
   "cell_type": "code",
   "execution_count": 28,
   "metadata": {},
   "outputs": [],
   "source": [
    "def confusion_matrix(y_actual, y_pred):\n",
    "    TP = 0\n",
    "    FP = 0\n",
    "    TN = 0\n",
    "    FN = 0\n",
    "\n",
    "    for i in range(len(y_pred)): \n",
    "        if y_actual[i]==y_pred[i]==1:\n",
    "           TP += 1\n",
    "        if y_pred[i]==1 and y_actual[i]!=y_pred[i]:\n",
    "           FP += 1\n",
    "        if y_actual[i]==y_pred[i]==0:\n",
    "           TN += 1\n",
    "        if y_pred[i]==0 and y_actual[i]!=y_pred[i]:\n",
    "           FN += 1\n",
    "\n",
    "    return(TP, FP, TN, FN)"
   ]
  },
  {
   "cell_type": "code",
   "execution_count": 29,
   "metadata": {},
   "outputs": [],
   "source": [
    "TP, FP, TN, FN = confusion_matrix(true_labels, pred_labels)"
   ]
  },
  {
   "cell_type": "code",
   "execution_count": 46,
   "metadata": {},
   "outputs": [
    {
     "name": "stdout",
     "output_type": "stream",
     "text": [
      "False Positive Rate: 1.0\n",
      "False Negative Rate: 0.0\n",
      "Mis Classification Rate: 0.5\n"
     ]
    }
   ],
   "source": [
    "fpr =  FP/(FP+TN)\n",
    "fnr = FN/(TP+FN)\n",
    "mis_class_rate = (FP + FN)/200\n",
    "print(\"False Positive Rate: {}\".format(fpr))\n",
    "print(\"False Negative Rate: {}\".format(fnr))\n",
    "print(\"Mis Classification Rate: {}\".format(mis_class_rate))"
   ]
  },
  {
   "cell_type": "code",
   "execution_count": 31,
   "metadata": {},
   "outputs": [
    {
     "data": {
      "image/png": "[encoded data removed]",
      "text/plain": [
       "<Figure size 432x288 with 1 Axes>"
      ]
     },
     "metadata": {
      "needs_background": "light"
     },
     "output_type": "display_data"
    }
   ],
   "source": [
    "fpr, tpr, threshold = roc_curve([1]*100 + [0]*100, np.append(pred_f_fdata, pred_nf_fdata))\n",
    "roc_auc = auc(fpr, tpr)\n",
    "\n",
    "# Plot ROC curve\n",
    "plt.plot(fpr, tpr, label='ROC curve (area = %0.4f)' % roc_auc)\n",
    "plt.plot([0, 1], [0, 1], 'k--')  # random predictions curve\n",
    "plt.xlim([0.0, 1.0])\n",
    "plt.ylim([0.0, 1.0])\n",
    "plt.xlabel('False Positive Rate or (1 - Specifity)')\n",
    "plt.ylabel('True Positive Rate or (Sensitivity)')\n",
    "plt.title('Receiver Operating Characteristic')\n",
    "plt.legend(loc=\"lower right\")\n",
    "plt.savefig(dir_path + model_path + \"T_Distribution/\" + \"T_Distribution_ROC_Curve.png\")"
   ]
  },
  {
   "cell_type": "code",
   "execution_count": 44,
   "metadata": {},
   "outputs": [
    {
     "name": "stdout",
     "output_type": "stream",
     "text": [
      "Visualizing Mean\n"
     ]
    },
    {
     "data": {
      "image/png": "[encoded data removed]",
      "text/plain": [
       "<Figure size 432x288 with 1 Axes>"
      ]
     },
     "metadata": {
      "needs_background": "light"
     },
     "output_type": "display_data"
    },
    {
     "name": "stdout",
     "output_type": "stream",
     "text": [
      "Visualizing Covariance\n"
     ]
    },
    {
     "data": {
      "image/png": "[encoded data removed]",
      "text/plain": [
       "<Figure size 432x288 with 1 Axes>"
      ]
     },
     "metadata": {
      "needs_background": "light"
     },
     "output_type": "display_data"
    },
    {
     "data": {
      "text/plain": [
       "True"
      ]
     },
     "execution_count": 44,
     "metadata": {},
     "output_type": "execute_result"
    }
   ],
   "source": [
    "print(\"Visualizing Mean\")\n",
    "mean_f_img = np.dot(factor_analyzer_f.mean[:,0], pca_f.components_) + pca_f.mean_\n",
    "mean_f_img = np.array(mean_f_img).astype('uint8')\n",
    "mean_f_img = np.reshape(mean_f_img,(20,20))\n",
    "plt.imshow(mean_f_img, cmap=\"gray\")\n",
    "plt.show()\n",
    "print(\"Visualizing Covariance\")\n",
    "cov_f_img = np.diagonal(factor_analyzer_f.covs)\n",
    "cov_f_img = np.matmul(np.log(cov_f_img), pca_f.components_) + pca_f.mean_\n",
    "cov_f_img =  cov_f_img.reshape(20,20)\n",
    "plt.imshow(cov_f_img, cmap='gray')\n",
    "plt.show()\n",
    "\n",
    "\n",
    "cv2.imwrite(dir_path + model_path + \"FA/\" + \"Mean_Face_Image.jpg\", mean_f_img)\n",
    "cv2.imwrite(dir_path + model_path + \"FA/\" + \"Cov_Face_Image.jpg\", cov_f_img) \n",
    "\n",
    "cv2.imwrite(dir_path + model_path + \"FA/\" + \"Mean_Face_Image_Resize.jpg\", \\\n",
    "            cv2.resize(mean_f_img, (60,60)))\n",
    "cv2.imwrite(dir_path + model_path + \"FA/\" + \"Cov_Face_Image_Resize.jpg\", \\\n",
    "            cv2.resize(cov_f_img, (60,60)))"
   ]
  },
  {
   "cell_type": "code",
   "execution_count": 43,
   "metadata": {},
   "outputs": [
    {
     "name": "stdout",
     "output_type": "stream",
     "text": [
      "Visualizing Mean\n"
     ]
    },
    {
     "data": {
      "image/png": "[encoded data removed]",
      "text/plain": [
       "<Figure size 432x288 with 1 Axes>"
      ]
     },
     "metadata": {
      "needs_background": "light"
     },
     "output_type": "display_data"
    },
    {
     "name": "stdout",
     "output_type": "stream",
     "text": [
      "Visualizing Covariance\n"
     ]
    },
    {
     "data": {
      "image/png": "[encoded data removed]",
      "text/plain": [
       "<Figure size 432x288 with 1 Axes>"
      ]
     },
     "metadata": {
      "needs_background": "light"
     },
     "output_type": "display_data"
    },
    {
     "data": {
      "text/plain": [
       "True"
      ]
     },
     "execution_count": 43,
     "metadata": {},
     "output_type": "execute_result"
    }
   ],
   "source": [
    "print(\"Visualizing Mean\")\n",
    "mean_f_img = np.dot(factor_analyzer_nf.mean[:,0], pca_f.components_) + pca_f.mean_\n",
    "mean_f_img = np.array(mean_f_img).astype('uint8')\n",
    "mean_f_img = np.reshape(mean_f_img,(20,20))\n",
    "plt.imshow(mean_f_img, cmap=\"gray\")\n",
    "plt.show()\n",
    "print(\"Visualizing Covariance\")\n",
    "cov_f_img = np.diagonal(factor_analyzer_nf.covs)\n",
    "cov_f_img = np.matmul(np.log(cov_f_img), pca_f.components_) + pca_f.mean_\n",
    "cov_f_img =  cov_f_img.reshape(20,20)\n",
    "plt.imshow(cov_f_img, cmap='gray')\n",
    "plt.show()\n",
    "\n",
    "\n",
    "cv2.imwrite(dir_path + model_path + \"FA/\" + \"Mean_Non_Face_Image.jpg\", mean_f_img)\n",
    "cv2.imwrite(dir_path + model_path + \"FA/\" + \"Cov_Non_Face_Image.jpg\", cov_f_img) \n",
    "\n",
    "cv2.imwrite(dir_path + model_path + \"FA/\" + \"Mean_Non_Face_Image_Resize.jpg\", \\\n",
    "            cv2.resize(mean_f_img, (60,60)))\n",
    "cv2.imwrite(dir_path + model_path + \"FA/\" + \"Cov_Non_Face_Image_Resize.jpg\", \\\n",
    "            cv2.resize(cov_f_img, (60,60)))"
   ]
  },
  {
   "cell_type": "code",
   "execution_count": null,
   "metadata": {},
   "outputs": [],
   "source": []
  }
 ],
 "metadata": {
  "kernelspec": {
   "display_name": "Python 3",
   "language": "python",
   "name": "python3"
  },
  "language_info": {
   "codemirror_mode": {
    "name": "ipython",
    "version": 3
   },
   "file_extension": ".py",
   "mimetype": "text/x-python",
   "name": "python",
   "nbconvert_exporter": "python",
   "pygments_lexer": "ipython3",
   "version": "3.7.3"
  }
 },
 "nbformat": 4,
 "nbformat_minor": 2
}
