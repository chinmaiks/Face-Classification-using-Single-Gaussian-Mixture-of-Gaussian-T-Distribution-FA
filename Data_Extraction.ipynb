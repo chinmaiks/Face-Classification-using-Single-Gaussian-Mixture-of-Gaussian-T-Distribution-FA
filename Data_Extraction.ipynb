{
 "cells": [
  {
   "cell_type": "code",
   "execution_count": 1,
   "metadata": {},
   "outputs": [],
   "source": [
    "import cv2\n",
    "from math import sin, cos, radians\n",
    "from PIL import Image\n",
    "import os"
   ]
  },
  {
   "cell_type": "code",
   "execution_count": 2,
   "metadata": {},
   "outputs": [],
   "source": [
    "dir_path = \"C:/Users/chinm/Documents/Courses/Sem4/CV/Project/1/\"\n",
    "\n",
    "images_dir = \"data/originalPics/\"\n",
    "fddb_file_path = \"data/FDDB-folds/\"\n",
    "img_format = \".jpg\"\n",
    "\n",
    "fddb_fold_files = [i for i in os.listdir(dir_path+fddb_file_path) if 'ellipse' not in i]\n",
    "fddb_fold_ellipse_files = [i for i in os.listdir(dir_path+fddb_file_path) if 'ellipse' in i]\n",
    "\n",
    "output_dir = \"data/output/\"\n",
    "bbox_fdd_folds = \"bbox-FDDB-folds/\"\n",
    "bbox_faces_dir = \"faces/\"\n",
    "bbox_non_faces_dir = \"non_faces/\"\n",
    "face_dim = (20, 20)"
   ]
  },
  {
   "cell_type": "code",
   "execution_count": 3,
   "metadata": {},
   "outputs": [],
   "source": [
    "def convert_ellipse_to_bbox():\n",
    "    for ellipse_file in fddb_fold_ellipse_files:\n",
    "        print('****************Parsing {}**********************'.format(ellipse_file))\n",
    "        with open(dir_path+fddb_file_path+ellipse_file) as f:\n",
    "            lines = [line.rstrip('\\n') for line in f]\n",
    "        line_num = 0\n",
    "        with open(dir_path + output_dir + bbox_fdd_folds + ellipse_file.split('ellipse')[0] + \"BoundingBox.txt\", \"w\") as bounding_box_file:\n",
    "            while line_num<len(lines):\n",
    "                img_path = lines[line_num]\n",
    "\n",
    "                with Image.open(dir_path + images_dir + img_path + img_format) as img:\n",
    "                    img_width, img_height = img.size\n",
    "                num_faces = int(lines[line_num+1])\n",
    "\n",
    "                bounding_boxes = []\n",
    "                for i in range(num_faces):\n",
    "                    major_axis_radius, minor_axis_radius, angle, center_x, center_y, _ = [float(l) for l in lines[line_num+2+i].split()]                 \n",
    "                    \n",
    "                    rect_height = 2 * major_axis_radius * (cos(radians(abs(angle))))\n",
    "                    rect_width = 2 * minor_axis_radius * (cos(radians(abs(angle))))\n",
    "\n",
    "                    left_x = int(max(0, center_x - rect_width/2))\n",
    "                    left_y = int(max(0, center_y - rect_height/2))\n",
    "                    right_x = int(min(img_width-1, center_x + rect_width/2))\n",
    "                    right_y = int(min(img_height-1, center_y + rect_height/2))\n",
    "                    \n",
    "                    bounding_boxes.append([left_x, left_y, right_x, right_y])\n",
    "\n",
    "                bounding_box_file.write(img_path+\"\\n\")\n",
    "                bounding_box_file.write(str(num_faces)+\"\\n\")\n",
    "                for bb_box in bounding_boxes:\n",
    "                    bounding_box_file.write(\" \".join([str(i) for i in bb_box])+\"\\n\")\n",
    "                line_num += num_faces + 2\n",
    "        print('****************Completed Parsing {}**********************'.format(ellipse_file))"
   ]
  },
  {
   "cell_type": "code",
   "execution_count": 4,
   "metadata": {},
   "outputs": [
    {
     "name": "stdout",
     "output_type": "stream",
     "text": [
      "****************Parsing FDDB-fold-01-ellipseList.txt**********************\n",
      "****************Completed Parsing FDDB-fold-01-ellipseList.txt**********************\n",
      "****************Parsing FDDB-fold-02-ellipseList.txt**********************\n",
      "****************Completed Parsing FDDB-fold-02-ellipseList.txt**********************\n",
      "****************Parsing FDDB-fold-03-ellipseList.txt**********************\n",
      "****************Completed Parsing FDDB-fold-03-ellipseList.txt**********************\n",
      "****************Parsing FDDB-fold-04-ellipseList.txt**********************\n",
      "****************Completed Parsing FDDB-fold-04-ellipseList.txt**********************\n",
      "****************Parsing FDDB-fold-05-ellipseList.txt**********************\n",
      "****************Completed Parsing FDDB-fold-05-ellipseList.txt**********************\n",
      "****************Parsing FDDB-fold-06-ellipseList.txt**********************\n",
      "****************Completed Parsing FDDB-fold-06-ellipseList.txt**********************\n",
      "****************Parsing FDDB-fold-07-ellipseList.txt**********************\n",
      "****************Completed Parsing FDDB-fold-07-ellipseList.txt**********************\n",
      "****************Parsing FDDB-fold-08-ellipseList.txt**********************\n",
      "****************Completed Parsing FDDB-fold-08-ellipseList.txt**********************\n",
      "****************Parsing FDDB-fold-09-ellipseList.txt**********************\n",
      "****************Completed Parsing FDDB-fold-09-ellipseList.txt**********************\n",
      "****************Parsing FDDB-fold-10-ellipseList.txt**********************\n",
      "****************Completed Parsing FDDB-fold-10-ellipseList.txt**********************\n"
     ]
    }
   ],
   "source": [
    "convert_ellipse_to_bbox()"
   ]
  },
  {
   "cell_type": "code",
   "execution_count": 5,
   "metadata": {},
   "outputs": [
    {
     "data": {
      "text/plain": [
       "10"
      ]
     },
     "execution_count": 5,
     "metadata": {},
     "output_type": "execute_result"
    }
   ],
   "source": [
    "bounding_box_files = [f for f in os.listdir(dir_path + output_dir + bbox_fdd_folds) if 'BoundingBox' in f]    \n",
    "len(bounding_box_files)"
   ]
  },
  {
   "cell_type": "code",
   "execution_count": 8,
   "metadata": {},
   "outputs": [],
   "source": [
    "#extract face data in the form of bbox\n",
    "def extract_faces_from_images():\n",
    "    for bounding_box_file in bounding_box_files:\n",
    "        with open(dir_path + output_dir + bbox_fdd_folds + bounding_box_file) as f:\n",
    "            lines = [l.strip(\"\\n\") for l in f]\n",
    "        line_num = 0\n",
    "        while line_num<len(lines):\n",
    "            img_path = lines[line_num]\n",
    "\n",
    "            img_dir = img_path.rpartition(\"/\")[0]\n",
    "            img_name = img_path.rpartition(\"/\")[-1]\n",
    "            os.makedirs(dir_path + output_dir + bbox_faces_dir + img_dir, exist_ok=True)\n",
    "            img = cv2.imread(dir_path + images_dir + img_path + img_format)\n",
    "            img = cv2.cvtColor(img, cv2.COLOR_BGR2GRAY).astype('float')\n",
    "            img_width, img_height = img.shape\n",
    "            \n",
    "            num_faces = int(lines[line_num+1])\n",
    "            for i in range(num_faces):\n",
    "                left_x, left_y, right_x, right_y = [int(j) for j in lines[line_num+2+i].split()]\n",
    "                crop_img = img[left_y:right_y, left_x:right_x]\n",
    "                cv2.imwrite(dir_path + output_dir + bbox_faces_dir + \\\n",
    "                            img_dir + \"/\" + img_name + \"_\" + str(i) + img_format, \\\n",
    "                            cv2.resize(crop_img, face_dim))\n",
    "            line_num += num_faces + 2"
   ]
  },
  {
   "cell_type": "code",
   "execution_count": 9,
   "metadata": {},
   "outputs": [],
   "source": [
    "extract_faces_from_images()"
   ]
  },
  {
   "cell_type": "code",
   "execution_count": 10,
   "metadata": {},
   "outputs": [],
   "source": [
    "def generate_non_face_image_coordinates(face_coordinates, img_width, img_height):\n",
    "    w, h = img_width, img_height\n",
    "    if img_width<w and img_height<h:\n",
    "        return set()\n",
    "    \n",
    "    non_face_cordinates = set()\n",
    "    \n",
    "    for x in range(img_width-20):\n",
    "        for y in range(img_height-20):\n",
    "            lx, ly, rx, ry = x, y, x+w, y+h\n",
    "            for llx, lly, rrx, rry in face_coordinates:\n",
    "                if ((rx<=llx) or (ry<=lly) or (lx >= rrx) or (ly >= rry)):\n",
    "                    non_face_cordinates.add((lx,ly,rx,ry))\n",
    "                    if len(non_face_cordinates) == len(face_coordinates):\n",
    "                        return non_face_cordinates\n",
    "    return non_face_cordinates"
   ]
  },
  {
   "cell_type": "code",
   "execution_count": 11,
   "metadata": {},
   "outputs": [],
   "source": [
    "#extract non face data in the form of bbox\n",
    "def extract_non_faces_from_images():\n",
    "    for bounding_box_file in bounding_box_files:\n",
    "        with open(dir_path + output_dir + bbox_fdd_folds + bounding_box_file) as f:\n",
    "            lines = [l.strip(\"\\n\") for l in f]\n",
    "        line_num = 0\n",
    "        while line_num<len(lines):\n",
    "            img_path = lines[line_num]\n",
    "\n",
    "            img_dir = img_path.rpartition(\"/\")[0]\n",
    "            img_name = img_path.rpartition(\"/\")[-1]\n",
    "            os.makedirs(dir_path + output_dir + bbox_non_faces_dir + img_dir, exist_ok=True)\n",
    "            img = cv2.imread(dir_path + images_dir + img_path + img_format)\n",
    "            img = cv2.cvtColor(img, cv2.COLOR_BGR2GRAY).astype('float')\n",
    "            img_width, img_height = img.shape\n",
    "            \n",
    "            num_faces = int(lines[line_num+1])\n",
    "            face_coordinates = set()\n",
    "            for i in range(num_faces):\n",
    "                left_x, left_y, right_x, right_y = [int(j) for j in lines[line_num+2+i].split()]\n",
    "                face_coordinates.add((left_x, left_y, right_x, right_y))  \n",
    "            non_face_coordinates = generate_non_face_image_coordinates(face_coordinates, img_width, img_height)\n",
    " \n",
    "            for idx, j in enumerate(non_face_coordinates):\n",
    "                lx, ly, rx, ry = j\n",
    "                crop_img = img[ly:ry, lx:rx]\n",
    "                cv2.imwrite(dir_path + output_dir + bbox_non_faces_dir + \\\n",
    "                            img_dir + \"/\" + img_name + \"_non_face_\" + str(idx) + img_format, \\\n",
    "                            cv2.resize(crop_img, face_dim))\n",
    "            line_num += num_faces + 2\n"
   ]
  },
  {
   "cell_type": "code",
   "execution_count": 12,
   "metadata": {},
   "outputs": [],
   "source": [
    "extract_non_faces_from_images()"
   ]
  },
  {
   "cell_type": "code",
   "execution_count": null,
   "metadata": {},
   "outputs": [],
   "source": []
  }
 ],
 "metadata": {
  "kernelspec": {
   "display_name": "Python 3",
   "language": "python",
   "name": "python3"
  },
  "language_info": {
   "codemirror_mode": {
    "name": "ipython",
    "version": 3
   },
   "file_extension": ".py",
   "mimetype": "text/x-python",
   "name": "python",
   "nbconvert_exporter": "python",
   "pygments_lexer": "ipython3",
   "version": "3.7.3"
  }
 },
 "nbformat": 4,
 "nbformat_minor": 2
}
